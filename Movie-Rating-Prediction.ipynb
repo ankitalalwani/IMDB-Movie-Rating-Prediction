{
 "cells": [
  {
   "cell_type": "markdown",
   "metadata": {},
   "source": [
    "# IMDB-Movie-Rating-Prediction"
   ]
  },
  {
   "cell_type": "code",
   "execution_count": 294,
   "metadata": {},
   "outputs": [],
   "source": [
    "import pandas as pd\n",
    "import numpy as np\n",
    "\n",
    "%matplotlib inline\n",
    "import matplotlib.pyplot as plt \n",
    "import seaborn as sns\n",
    "\n",
    "from sklearn.preprocessing import LabelEncoder\n",
    "\n",
    "from imblearn.over_sampling import RandomOverSampler\n",
    "\n",
    "from sklearn.model_selection import train_test_split, GridSearchCV\n",
    "from sklearn.ensemble import RandomForestClassifier\n",
    "\n",
    "from sklearn.metrics import accuracy_score,recall_score,f1_score,roc_auc_score,confusion_matrix,precision_score, make_scorer\n",
    "\n",
    "\n"
   ]
  },
  {
   "cell_type": "code",
   "execution_count": 295,
   "metadata": {},
   "outputs": [
    {
     "name": "stdout",
     "output_type": "stream",
     "text": [
      "Requirement already satisfied: imblearn in c:\\users\\sai\\anaconda2\\lib\\site-packages\n",
      "Requirement already satisfied: imbalanced-learn in c:\\users\\sai\\anaconda2\\lib\\site-packages (from imblearn)\n",
      "Requirement already satisfied: numpy in c:\\users\\sai\\anaconda2\\lib\\site-packages (from imbalanced-learn->imblearn)\n",
      "Requirement already satisfied: scipy in c:\\users\\sai\\anaconda2\\lib\\site-packages (from imbalanced-learn->imblearn)\n",
      "Requirement already satisfied: scikit-learn in c:\\users\\sai\\anaconda2\\lib\\site-packages (from imbalanced-learn->imblearn)\n"
     ]
    },
    {
     "name": "stderr",
     "output_type": "stream",
     "text": [
      "You are using pip version 9.0.1, however version 18.0 is available.\n",
      "You should consider upgrading via the 'python -m pip install --upgrade pip' command.\n"
     ]
    }
   ],
   "source": [
    "!pip install imblearn\n"
   ]
  },
  {
   "cell_type": "code",
   "execution_count": 296,
   "metadata": {},
   "outputs": [],
   "source": [
    "imdb_df = pd.read_csv(\"https://raw.githubusercontent.com/justmarkham/pandas-videos/master/data/imdb_1000.csv\")"
   ]
  },
  {
   "cell_type": "code",
   "execution_count": 297,
   "metadata": {},
   "outputs": [
    {
     "data": {
      "text/plain": [
       "star_rating       float64\n",
       "title              object\n",
       "content_rating     object\n",
       "genre              object\n",
       "duration            int64\n",
       "actors_list        object\n",
       "dtype: object"
      ]
     },
     "execution_count": 297,
     "metadata": {},
     "output_type": "execute_result"
    }
   ],
   "source": [
    "imdb_df.dtypes"
   ]
  },
  {
   "cell_type": "code",
   "execution_count": 298,
   "metadata": {},
   "outputs": [
    {
     "data": {
      "text/html": [
       "<div>\n",
       "<style scoped>\n",
       "    .dataframe tbody tr th:only-of-type {\n",
       "        vertical-align: middle;\n",
       "    }\n",
       "\n",
       "    .dataframe tbody tr th {\n",
       "        vertical-align: top;\n",
       "    }\n",
       "\n",
       "    .dataframe thead th {\n",
       "        text-align: right;\n",
       "    }\n",
       "</style>\n",
       "<table border=\"1\" class=\"dataframe\">\n",
       "  <thead>\n",
       "    <tr style=\"text-align: right;\">\n",
       "      <th></th>\n",
       "      <th>star_rating</th>\n",
       "      <th>duration</th>\n",
       "    </tr>\n",
       "  </thead>\n",
       "  <tbody>\n",
       "    <tr>\n",
       "      <th>count</th>\n",
       "      <td>979.000000</td>\n",
       "      <td>979.000000</td>\n",
       "    </tr>\n",
       "    <tr>\n",
       "      <th>mean</th>\n",
       "      <td>7.889785</td>\n",
       "      <td>120.979571</td>\n",
       "    </tr>\n",
       "    <tr>\n",
       "      <th>std</th>\n",
       "      <td>0.336069</td>\n",
       "      <td>26.218010</td>\n",
       "    </tr>\n",
       "    <tr>\n",
       "      <th>min</th>\n",
       "      <td>7.400000</td>\n",
       "      <td>64.000000</td>\n",
       "    </tr>\n",
       "    <tr>\n",
       "      <th>25%</th>\n",
       "      <td>7.600000</td>\n",
       "      <td>102.000000</td>\n",
       "    </tr>\n",
       "    <tr>\n",
       "      <th>50%</th>\n",
       "      <td>7.800000</td>\n",
       "      <td>117.000000</td>\n",
       "    </tr>\n",
       "    <tr>\n",
       "      <th>75%</th>\n",
       "      <td>8.100000</td>\n",
       "      <td>134.000000</td>\n",
       "    </tr>\n",
       "    <tr>\n",
       "      <th>max</th>\n",
       "      <td>9.300000</td>\n",
       "      <td>242.000000</td>\n",
       "    </tr>\n",
       "  </tbody>\n",
       "</table>\n",
       "</div>"
      ],
      "text/plain": [
       "       star_rating    duration\n",
       "count   979.000000  979.000000\n",
       "mean      7.889785  120.979571\n",
       "std       0.336069   26.218010\n",
       "min       7.400000   64.000000\n",
       "25%       7.600000  102.000000\n",
       "50%       7.800000  117.000000\n",
       "75%       8.100000  134.000000\n",
       "max       9.300000  242.000000"
      ]
     },
     "execution_count": 298,
     "metadata": {},
     "output_type": "execute_result"
    }
   ],
   "source": [
    "imdb_df.describe()"
   ]
  },
  {
   "cell_type": "code",
   "execution_count": 299,
   "metadata": {},
   "outputs": [
    {
     "data": {
      "text/html": [
       "<div>\n",
       "<style scoped>\n",
       "    .dataframe tbody tr th:only-of-type {\n",
       "        vertical-align: middle;\n",
       "    }\n",
       "\n",
       "    .dataframe tbody tr th {\n",
       "        vertical-align: top;\n",
       "    }\n",
       "\n",
       "    .dataframe thead th {\n",
       "        text-align: right;\n",
       "    }\n",
       "</style>\n",
       "<table border=\"1\" class=\"dataframe\">\n",
       "  <thead>\n",
       "    <tr style=\"text-align: right;\">\n",
       "      <th></th>\n",
       "      <th>star_rating</th>\n",
       "      <th>title</th>\n",
       "      <th>content_rating</th>\n",
       "      <th>genre</th>\n",
       "      <th>duration</th>\n",
       "      <th>actors_list</th>\n",
       "    </tr>\n",
       "  </thead>\n",
       "  <tbody>\n",
       "    <tr>\n",
       "      <th>0</th>\n",
       "      <td>9.3</td>\n",
       "      <td>The Shawshank Redemption</td>\n",
       "      <td>R</td>\n",
       "      <td>Crime</td>\n",
       "      <td>142</td>\n",
       "      <td>[u'Tim Robbins', u'Morgan Freeman', u'Bob Gunt...</td>\n",
       "    </tr>\n",
       "    <tr>\n",
       "      <th>1</th>\n",
       "      <td>9.2</td>\n",
       "      <td>The Godfather</td>\n",
       "      <td>R</td>\n",
       "      <td>Crime</td>\n",
       "      <td>175</td>\n",
       "      <td>[u'Marlon Brando', u'Al Pacino', u'James Caan']</td>\n",
       "    </tr>\n",
       "    <tr>\n",
       "      <th>2</th>\n",
       "      <td>9.1</td>\n",
       "      <td>The Godfather: Part II</td>\n",
       "      <td>R</td>\n",
       "      <td>Crime</td>\n",
       "      <td>200</td>\n",
       "      <td>[u'Al Pacino', u'Robert De Niro', u'Robert Duv...</td>\n",
       "    </tr>\n",
       "    <tr>\n",
       "      <th>3</th>\n",
       "      <td>9.0</td>\n",
       "      <td>The Dark Knight</td>\n",
       "      <td>PG-13</td>\n",
       "      <td>Action</td>\n",
       "      <td>152</td>\n",
       "      <td>[u'Christian Bale', u'Heath Ledger', u'Aaron E...</td>\n",
       "    </tr>\n",
       "    <tr>\n",
       "      <th>4</th>\n",
       "      <td>8.9</td>\n",
       "      <td>Pulp Fiction</td>\n",
       "      <td>R</td>\n",
       "      <td>Crime</td>\n",
       "      <td>154</td>\n",
       "      <td>[u'John Travolta', u'Uma Thurman', u'Samuel L....</td>\n",
       "    </tr>\n",
       "  </tbody>\n",
       "</table>\n",
       "</div>"
      ],
      "text/plain": [
       "   star_rating                     title content_rating   genre  duration  \\\n",
       "0          9.3  The Shawshank Redemption              R   Crime       142   \n",
       "1          9.2             The Godfather              R   Crime       175   \n",
       "2          9.1    The Godfather: Part II              R   Crime       200   \n",
       "3          9.0           The Dark Knight          PG-13  Action       152   \n",
       "4          8.9              Pulp Fiction              R   Crime       154   \n",
       "\n",
       "                                         actors_list  \n",
       "0  [u'Tim Robbins', u'Morgan Freeman', u'Bob Gunt...  \n",
       "1    [u'Marlon Brando', u'Al Pacino', u'James Caan']  \n",
       "2  [u'Al Pacino', u'Robert De Niro', u'Robert Duv...  \n",
       "3  [u'Christian Bale', u'Heath Ledger', u'Aaron E...  \n",
       "4  [u'John Travolta', u'Uma Thurman', u'Samuel L....  "
      ]
     },
     "execution_count": 299,
     "metadata": {},
     "output_type": "execute_result"
    }
   ],
   "source": [
    "imdb_df.head()"
   ]
  },
  {
   "cell_type": "code",
   "execution_count": 300,
   "metadata": {},
   "outputs": [
    {
     "data": {
      "text/html": [
       "<div>\n",
       "<style scoped>\n",
       "    .dataframe tbody tr th:only-of-type {\n",
       "        vertical-align: middle;\n",
       "    }\n",
       "\n",
       "    .dataframe tbody tr th {\n",
       "        vertical-align: top;\n",
       "    }\n",
       "\n",
       "    .dataframe thead th {\n",
       "        text-align: right;\n",
       "    }\n",
       "</style>\n",
       "<table border=\"1\" class=\"dataframe\">\n",
       "  <thead>\n",
       "    <tr style=\"text-align: right;\">\n",
       "      <th></th>\n",
       "      <th>star_rating</th>\n",
       "      <th>title</th>\n",
       "      <th>content_rating</th>\n",
       "      <th>genre</th>\n",
       "      <th>duration</th>\n",
       "      <th>actors_list</th>\n",
       "    </tr>\n",
       "  </thead>\n",
       "  <tbody>\n",
       "    <tr>\n",
       "      <th>974</th>\n",
       "      <td>7.4</td>\n",
       "      <td>Tootsie</td>\n",
       "      <td>PG</td>\n",
       "      <td>Comedy</td>\n",
       "      <td>116</td>\n",
       "      <td>[u'Dustin Hoffman', u'Jessica Lange', u'Teri G...</td>\n",
       "    </tr>\n",
       "    <tr>\n",
       "      <th>975</th>\n",
       "      <td>7.4</td>\n",
       "      <td>Back to the Future Part III</td>\n",
       "      <td>PG</td>\n",
       "      <td>Adventure</td>\n",
       "      <td>118</td>\n",
       "      <td>[u'Michael J. Fox', u'Christopher Lloyd', u'Ma...</td>\n",
       "    </tr>\n",
       "    <tr>\n",
       "      <th>976</th>\n",
       "      <td>7.4</td>\n",
       "      <td>Master and Commander: The Far Side of the World</td>\n",
       "      <td>PG-13</td>\n",
       "      <td>Action</td>\n",
       "      <td>138</td>\n",
       "      <td>[u'Russell Crowe', u'Paul Bettany', u'Billy Bo...</td>\n",
       "    </tr>\n",
       "    <tr>\n",
       "      <th>977</th>\n",
       "      <td>7.4</td>\n",
       "      <td>Poltergeist</td>\n",
       "      <td>PG</td>\n",
       "      <td>Horror</td>\n",
       "      <td>114</td>\n",
       "      <td>[u'JoBeth Williams', u\"Heather O'Rourke\", u'Cr...</td>\n",
       "    </tr>\n",
       "    <tr>\n",
       "      <th>978</th>\n",
       "      <td>7.4</td>\n",
       "      <td>Wall Street</td>\n",
       "      <td>R</td>\n",
       "      <td>Crime</td>\n",
       "      <td>126</td>\n",
       "      <td>[u'Charlie Sheen', u'Michael Douglas', u'Tamar...</td>\n",
       "    </tr>\n",
       "  </tbody>\n",
       "</table>\n",
       "</div>"
      ],
      "text/plain": [
       "     star_rating                                            title  \\\n",
       "974          7.4                                          Tootsie   \n",
       "975          7.4                      Back to the Future Part III   \n",
       "976          7.4  Master and Commander: The Far Side of the World   \n",
       "977          7.4                                      Poltergeist   \n",
       "978          7.4                                      Wall Street   \n",
       "\n",
       "    content_rating      genre  duration  \\\n",
       "974             PG     Comedy       116   \n",
       "975             PG  Adventure       118   \n",
       "976          PG-13     Action       138   \n",
       "977             PG     Horror       114   \n",
       "978              R      Crime       126   \n",
       "\n",
       "                                           actors_list  \n",
       "974  [u'Dustin Hoffman', u'Jessica Lange', u'Teri G...  \n",
       "975  [u'Michael J. Fox', u'Christopher Lloyd', u'Ma...  \n",
       "976  [u'Russell Crowe', u'Paul Bettany', u'Billy Bo...  \n",
       "977  [u'JoBeth Williams', u\"Heather O'Rourke\", u'Cr...  \n",
       "978  [u'Charlie Sheen', u'Michael Douglas', u'Tamar...  "
      ]
     },
     "execution_count": 300,
     "metadata": {},
     "output_type": "execute_result"
    }
   ],
   "source": [
    "imdb_df.tail()"
   ]
  },
  {
   "cell_type": "code",
   "execution_count": 301,
   "metadata": {
    "scrolled": false
   },
   "outputs": [
    {
     "name": "stdout",
     "output_type": "stream",
     "text": [
      "['Crime' 'Action' 'Drama' 'Western' 'Adventure' 'Biography' 'Comedy'\n",
      " 'Animation' 'Mystery' 'Horror' 'Film-Noir' 'Sci-Fi' 'History' 'Thriller'\n",
      " 'Family' 'Fantasy']\n",
      "[9.3 9.2 9.1 9.  8.9 8.8 8.7 8.6 8.5 8.4 8.3 8.2 8.1 8.  7.9 7.8 7.7 7.6\n",
      " 7.5 7.4]\n",
      "['R' 'PG-13' 'NOT RATED' 'PG' 'UNRATED' 'APPROVED' 'PASSED' 'G' 'X' nan\n",
      " 'TV-MA' 'GP' 'NC-17']\n",
      "[142 175 200 152 154  96 161 201 195 139 178 148 124 179 169 133 207 146\n",
      " 121 136 130 106 127 116 118 110  87 125 112 102 107 119 115 109 189 150\n",
      " 165 155 137 113  95 151 153  89 117  88 170  99  98 156 122 149 134 157\n",
      " 123 128 120 229 103 177 129 216  93  68 108 181 138 160 126  91 143 132\n",
      " 183 140  81 131 172 162  86 186 224 180 105 238 182  92 100 135  94  83\n",
      " 163 167 188 111 101 212 114 158 191 147 174  85 184  67 141 104  80  84\n",
      " 145  76  82 197  66 144  70  90  97  64  75 193 159 220 242  78 166  79\n",
      " 187 194 202 168 164  69 205]\n"
     ]
    }
   ],
   "source": [
    "print(imdb_df.genre.unique())\n",
    "print(imdb_df.star_rating.unique())\n",
    "print(imdb_df.content_rating.unique())\n",
    "print(imdb_df.duration.unique())\n",
    "\n",
    "\n"
   ]
  },
  {
   "cell_type": "code",
   "execution_count": 302,
   "metadata": {},
   "outputs": [
    {
     "data": {
      "text/plain": [
       "<matplotlib.axes._subplots.AxesSubplot at 0xe9b0a58>"
      ]
     },
     "execution_count": 302,
     "metadata": {},
     "output_type": "execute_result"
    },
    {
     "data": {
      "image/png": "[encoded data removed]",
      "text/plain": [
       "<matplotlib.figure.Figure at 0xf207ac8>"
      ]
     },
     "metadata": {},
     "output_type": "display_data"
    }
   ],
   "source": [
    "sns.distplot(imdb_df['star_rating'], kde=False)\n"
   ]
  },
  {
   "cell_type": "code",
   "execution_count": 303,
   "metadata": {},
   "outputs": [
    {
     "data": {
      "text/plain": [
       "<matplotlib.axes._subplots.AxesSubplot at 0x12900f60>"
      ]
     },
     "execution_count": 303,
     "metadata": {},
     "output_type": "execute_result"
    },
    {
     "data": {
      "image/png": "[encoded data removed]",
      "text/plain": [
       "<matplotlib.figure.Figure at 0xf2104a8>"
      ]
     },
     "metadata": {},
     "output_type": "display_data"
    }
   ],
   "source": [
    "sns.distplot(imdb_df['duration'], kde=False)"
   ]
  },
  {
   "cell_type": "markdown",
   "metadata": {},
   "source": [
    "# Missing Values"
   ]
  },
  {
   "cell_type": "code",
   "execution_count": 304,
   "metadata": {},
   "outputs": [
    {
     "data": {
      "text/plain": [
       "star_rating       0\n",
       "title             0\n",
       "content_rating    3\n",
       "genre             0\n",
       "duration          0\n",
       "actors_list       0\n",
       "dtype: int64"
      ]
     },
     "execution_count": 304,
     "metadata": {},
     "output_type": "execute_result"
    }
   ],
   "source": [
    "imdb_df.isnull().sum()"
   ]
  },
  {
   "cell_type": "code",
   "execution_count": 305,
   "metadata": {},
   "outputs": [
    {
     "data": {
      "text/plain": [
       "array(['R', 'PG-13', 'NOT RATED', 'PG', 'UNRATED', 'APPROVED', 'PASSED',\n",
       "       'G', 'X', nan, 'TV-MA', 'GP', 'NC-17'], dtype=object)"
      ]
     },
     "execution_count": 305,
     "metadata": {},
     "output_type": "execute_result"
    }
   ],
   "source": [
    "imdb_df.content_rating.unique()"
   ]
  },
  {
   "cell_type": "code",
   "execution_count": 306,
   "metadata": {},
   "outputs": [],
   "source": [
    "imdb_df['content_rating'].replace(np.nan,'NOT RATED',inplace=True)"
   ]
  },
  {
   "cell_type": "code",
   "execution_count": 307,
   "metadata": {},
   "outputs": [
    {
     "data": {
      "text/plain": [
       "0"
      ]
     },
     "execution_count": 307,
     "metadata": {},
     "output_type": "execute_result"
    }
   ],
   "source": [
    "imdb_df.content_rating.isnull().sum()"
   ]
  },
  {
   "cell_type": "code",
   "execution_count": 308,
   "metadata": {},
   "outputs": [
    {
     "data": {
      "text/plain": [
       "array(['Crime', 'Action', 'Drama', 'Western', 'Adventure', 'Biography',\n",
       "       'Comedy', 'Animation', 'Mystery', 'Horror', 'Film-Noir', 'Sci-Fi',\n",
       "       'History', 'Thriller', 'Family', 'Fantasy'], dtype=object)"
      ]
     },
     "execution_count": 308,
     "metadata": {},
     "output_type": "execute_result"
    }
   ],
   "source": [
    "imdb_df.genre.unique()"
   ]
  },
  {
   "cell_type": "code",
   "execution_count": 309,
   "metadata": {},
   "outputs": [
    {
     "data": {
      "text/html": [
       "<div>\n",
       "<style scoped>\n",
       "    .dataframe tbody tr th:only-of-type {\n",
       "        vertical-align: middle;\n",
       "    }\n",
       "\n",
       "    .dataframe tbody tr th {\n",
       "        vertical-align: top;\n",
       "    }\n",
       "\n",
       "    .dataframe thead th {\n",
       "        text-align: right;\n",
       "    }\n",
       "</style>\n",
       "<table border=\"1\" class=\"dataframe\">\n",
       "  <thead>\n",
       "    <tr style=\"text-align: right;\">\n",
       "      <th></th>\n",
       "      <th>star_rating</th>\n",
       "      <th>duration</th>\n",
       "    </tr>\n",
       "  </thead>\n",
       "  <tbody>\n",
       "    <tr>\n",
       "      <th>star_rating</th>\n",
       "      <td>1.000000</td>\n",
       "      <td>0.227149</td>\n",
       "    </tr>\n",
       "    <tr>\n",
       "      <th>duration</th>\n",
       "      <td>0.227149</td>\n",
       "      <td>1.000000</td>\n",
       "    </tr>\n",
       "  </tbody>\n",
       "</table>\n",
       "</div>"
      ],
      "text/plain": [
       "             star_rating  duration\n",
       "star_rating     1.000000  0.227149\n",
       "duration        0.227149  1.000000"
      ]
     },
     "execution_count": 309,
     "metadata": {},
     "output_type": "execute_result"
    }
   ],
   "source": [
    "imdb_df.corr()"
   ]
  },
  {
   "cell_type": "markdown",
   "metadata": {},
   "source": [
    "# Converting categorical features to numerical"
   ]
  },
  {
   "cell_type": "markdown",
   "metadata": {},
   "source": [
    "# One Hot Encoding"
   ]
  },
  {
   "cell_type": "code",
   "execution_count": 310,
   "metadata": {},
   "outputs": [],
   "source": [
    "def dummyEncode(df):\n",
    "        columnsToEncode = list(df.select_dtypes(include=['category','object']))\n",
    "        le = LabelEncoder()\n",
    "        for feature in columnsToEncode:\n",
    "            try:\n",
    "                df[feature] = le.fit_transform(df[feature])\n",
    "            except:\n",
    "                print('Error encoding '+feature)\n",
    "        return df\n",
    "    \n",
    "    "
   ]
  },
  {
   "cell_type": "code",
   "execution_count": 311,
   "metadata": {},
   "outputs": [
    {
     "data": {
      "text/html": [
       "<div>\n",
       "<style scoped>\n",
       "    .dataframe tbody tr th:only-of-type {\n",
       "        vertical-align: middle;\n",
       "    }\n",
       "\n",
       "    .dataframe tbody tr th {\n",
       "        vertical-align: top;\n",
       "    }\n",
       "\n",
       "    .dataframe thead th {\n",
       "        text-align: right;\n",
       "    }\n",
       "</style>\n",
       "<table border=\"1\" class=\"dataframe\">\n",
       "  <thead>\n",
       "    <tr style=\"text-align: right;\">\n",
       "      <th></th>\n",
       "      <th>star_rating</th>\n",
       "      <th>title</th>\n",
       "      <th>content_rating</th>\n",
       "      <th>genre</th>\n",
       "      <th>duration</th>\n",
       "      <th>actors_list</th>\n",
       "    </tr>\n",
       "  </thead>\n",
       "  <tbody>\n",
       "    <tr>\n",
       "      <th>0</th>\n",
       "      <td>9.3</td>\n",
       "      <td>866</td>\n",
       "      <td>8</td>\n",
       "      <td>5</td>\n",
       "      <td>142</td>\n",
       "      <td>875</td>\n",
       "    </tr>\n",
       "    <tr>\n",
       "      <th>1</th>\n",
       "      <td>9.2</td>\n",
       "      <td>756</td>\n",
       "      <td>8</td>\n",
       "      <td>5</td>\n",
       "      <td>175</td>\n",
       "      <td>621</td>\n",
       "    </tr>\n",
       "    <tr>\n",
       "      <th>2</th>\n",
       "      <td>9.1</td>\n",
       "      <td>757</td>\n",
       "      <td>8</td>\n",
       "      <td>5</td>\n",
       "      <td>200</td>\n",
       "      <td>23</td>\n",
       "    </tr>\n",
       "    <tr>\n",
       "      <th>3</th>\n",
       "      <td>9.0</td>\n",
       "      <td>730</td>\n",
       "      <td>7</td>\n",
       "      <td>0</td>\n",
       "      <td>152</td>\n",
       "      <td>173</td>\n",
       "    </tr>\n",
       "    <tr>\n",
       "      <th>4</th>\n",
       "      <td>8.9</td>\n",
       "      <td>560</td>\n",
       "      <td>8</td>\n",
       "      <td>5</td>\n",
       "      <td>154</td>\n",
       "      <td>499</td>\n",
       "    </tr>\n",
       "    <tr>\n",
       "      <th>5</th>\n",
       "      <td>8.9</td>\n",
       "      <td>1</td>\n",
       "      <td>4</td>\n",
       "      <td>6</td>\n",
       "      <td>96</td>\n",
       "      <td>377</td>\n",
       "    </tr>\n",
       "    <tr>\n",
       "      <th>6</th>\n",
       "      <td>8.9</td>\n",
       "      <td>760</td>\n",
       "      <td>4</td>\n",
       "      <td>15</td>\n",
       "      <td>161</td>\n",
       "      <td>191</td>\n",
       "    </tr>\n",
       "    <tr>\n",
       "      <th>7</th>\n",
       "      <td>8.9</td>\n",
       "      <td>812</td>\n",
       "      <td>7</td>\n",
       "      <td>1</td>\n",
       "      <td>201</td>\n",
       "      <td>280</td>\n",
       "    </tr>\n",
       "    <tr>\n",
       "      <th>8</th>\n",
       "      <td>8.9</td>\n",
       "      <td>602</td>\n",
       "      <td>8</td>\n",
       "      <td>3</td>\n",
       "      <td>195</td>\n",
       "      <td>596</td>\n",
       "    </tr>\n",
       "    <tr>\n",
       "      <th>9</th>\n",
       "      <td>8.9</td>\n",
       "      <td>260</td>\n",
       "      <td>8</td>\n",
       "      <td>6</td>\n",
       "      <td>139</td>\n",
       "      <td>101</td>\n",
       "    </tr>\n",
       "    <tr>\n",
       "      <th>10</th>\n",
       "      <td>8.8</td>\n",
       "      <td>811</td>\n",
       "      <td>7</td>\n",
       "      <td>1</td>\n",
       "      <td>178</td>\n",
       "      <td>278</td>\n",
       "    </tr>\n",
       "    <tr>\n",
       "      <th>11</th>\n",
       "      <td>8.8</td>\n",
       "      <td>359</td>\n",
       "      <td>7</td>\n",
       "      <td>0</td>\n",
       "      <td>148</td>\n",
       "      <td>587</td>\n",
       "    </tr>\n",
       "    <tr>\n",
       "      <th>12</th>\n",
       "      <td>8.8</td>\n",
       "      <td>656</td>\n",
       "      <td>6</td>\n",
       "      <td>0</td>\n",
       "      <td>124</td>\n",
       "      <td>617</td>\n",
       "    </tr>\n",
       "    <tr>\n",
       "      <th>13</th>\n",
       "      <td>8.8</td>\n",
       "      <td>268</td>\n",
       "      <td>7</td>\n",
       "      <td>6</td>\n",
       "      <td>142</td>\n",
       "      <td>896</td>\n",
       "    </tr>\n",
       "    <tr>\n",
       "      <th>14</th>\n",
       "      <td>8.8</td>\n",
       "      <td>813</td>\n",
       "      <td>7</td>\n",
       "      <td>1</td>\n",
       "      <td>179</td>\n",
       "      <td>279</td>\n",
       "    </tr>\n",
       "    <tr>\n",
       "      <th>15</th>\n",
       "      <td>8.7</td>\n",
       "      <td>366</td>\n",
       "      <td>7</td>\n",
       "      <td>1</td>\n",
       "      <td>169</td>\n",
       "      <td>635</td>\n",
       "    </tr>\n",
       "    <tr>\n",
       "      <th>16</th>\n",
       "      <td>8.7</td>\n",
       "      <td>526</td>\n",
       "      <td>8</td>\n",
       "      <td>6</td>\n",
       "      <td>133</td>\n",
       "      <td>410</td>\n",
       "    </tr>\n",
       "    <tr>\n",
       "      <th>17</th>\n",
       "      <td>8.7</td>\n",
       "      <td>612</td>\n",
       "      <td>10</td>\n",
       "      <td>6</td>\n",
       "      <td>207</td>\n",
       "      <td>914</td>\n",
       "    </tr>\n",
       "    <tr>\n",
       "      <th>18</th>\n",
       "      <td>8.7</td>\n",
       "      <td>303</td>\n",
       "      <td>8</td>\n",
       "      <td>3</td>\n",
       "      <td>146</td>\n",
       "      <td>766</td>\n",
       "    </tr>\n",
       "    <tr>\n",
       "      <th>19</th>\n",
       "      <td>8.7</td>\n",
       "      <td>654</td>\n",
       "      <td>6</td>\n",
       "      <td>0</td>\n",
       "      <td>121</td>\n",
       "      <td>617</td>\n",
       "    </tr>\n",
       "    <tr>\n",
       "      <th>20</th>\n",
       "      <td>8.7</td>\n",
       "      <td>823</td>\n",
       "      <td>8</td>\n",
       "      <td>0</td>\n",
       "      <td>136</td>\n",
       "      <td>544</td>\n",
       "    </tr>\n",
       "    <tr>\n",
       "      <th>21</th>\n",
       "      <td>8.7</td>\n",
       "      <td>166</td>\n",
       "      <td>8</td>\n",
       "      <td>5</td>\n",
       "      <td>130</td>\n",
       "      <td>32</td>\n",
       "    </tr>\n",
       "    <tr>\n",
       "      <th>22</th>\n",
       "      <td>8.7</td>\n",
       "      <td>374</td>\n",
       "      <td>0</td>\n",
       "      <td>6</td>\n",
       "      <td>130</td>\n",
       "      <td>430</td>\n",
       "    </tr>\n",
       "    <tr>\n",
       "      <th>23</th>\n",
       "      <td>8.7</td>\n",
       "      <td>889</td>\n",
       "      <td>8</td>\n",
       "      <td>5</td>\n",
       "      <td>106</td>\n",
       "      <td>562</td>\n",
       "    </tr>\n",
       "    <tr>\n",
       "      <th>24</th>\n",
       "      <td>8.7</td>\n",
       "      <td>604</td>\n",
       "      <td>8</td>\n",
       "      <td>6</td>\n",
       "      <td>127</td>\n",
       "      <td>678</td>\n",
       "    </tr>\n",
       "    <tr>\n",
       "      <th>25</th>\n",
       "      <td>8.6</td>\n",
       "      <td>424</td>\n",
       "      <td>7</td>\n",
       "      <td>4</td>\n",
       "      <td>116</td>\n",
       "      <td>781</td>\n",
       "    </tr>\n",
       "    <tr>\n",
       "      <th>26</th>\n",
       "      <td>8.6</td>\n",
       "      <td>525</td>\n",
       "      <td>7</td>\n",
       "      <td>15</td>\n",
       "      <td>175</td>\n",
       "      <td>375</td>\n",
       "    </tr>\n",
       "    <tr>\n",
       "      <th>27</th>\n",
       "      <td>8.6</td>\n",
       "      <td>868</td>\n",
       "      <td>8</td>\n",
       "      <td>6</td>\n",
       "      <td>118</td>\n",
       "      <td>484</td>\n",
       "    </tr>\n",
       "    <tr>\n",
       "      <th>28</th>\n",
       "      <td>8.6</td>\n",
       "      <td>419</td>\n",
       "      <td>8</td>\n",
       "      <td>5</td>\n",
       "      <td>110</td>\n",
       "      <td>454</td>\n",
       "    </tr>\n",
       "    <tr>\n",
       "      <th>29</th>\n",
       "      <td>8.6</td>\n",
       "      <td>165</td>\n",
       "      <td>5</td>\n",
       "      <td>4</td>\n",
       "      <td>87</td>\n",
       "      <td>155</td>\n",
       "    </tr>\n",
       "    <tr>\n",
       "      <th>...</th>\n",
       "      <td>...</td>\n",
       "      <td>...</td>\n",
       "      <td>...</td>\n",
       "      <td>...</td>\n",
       "      <td>...</td>\n",
       "      <td>...</td>\n",
       "    </tr>\n",
       "    <tr>\n",
       "      <th>949</th>\n",
       "      <td>7.4</td>\n",
       "      <td>335</td>\n",
       "      <td>6</td>\n",
       "      <td>4</td>\n",
       "      <td>103</td>\n",
       "      <td>600</td>\n",
       "    </tr>\n",
       "    <tr>\n",
       "      <th>950</th>\n",
       "      <td>7.4</td>\n",
       "      <td>123</td>\n",
       "      <td>8</td>\n",
       "      <td>5</td>\n",
       "      <td>108</td>\n",
       "      <td>466</td>\n",
       "    </tr>\n",
       "    <tr>\n",
       "      <th>951</th>\n",
       "      <td>7.4</td>\n",
       "      <td>630</td>\n",
       "      <td>8</td>\n",
       "      <td>6</td>\n",
       "      <td>105</td>\n",
       "      <td>507</td>\n",
       "    </tr>\n",
       "    <tr>\n",
       "      <th>952</th>\n",
       "      <td>7.4</td>\n",
       "      <td>544</td>\n",
       "      <td>8</td>\n",
       "      <td>4</td>\n",
       "      <td>117</td>\n",
       "      <td>731</td>\n",
       "    </tr>\n",
       "    <tr>\n",
       "      <th>953</th>\n",
       "      <td>7.4</td>\n",
       "      <td>831</td>\n",
       "      <td>6</td>\n",
       "      <td>1</td>\n",
       "      <td>102</td>\n",
       "      <td>698</td>\n",
       "    </tr>\n",
       "    <tr>\n",
       "      <th>954</th>\n",
       "      <td>7.4</td>\n",
       "      <td>960</td>\n",
       "      <td>7</td>\n",
       "      <td>0</td>\n",
       "      <td>104</td>\n",
       "      <td>709</td>\n",
       "    </tr>\n",
       "    <tr>\n",
       "      <th>955</th>\n",
       "      <td>7.4</td>\n",
       "      <td>970</td>\n",
       "      <td>8</td>\n",
       "      <td>6</td>\n",
       "      <td>157</td>\n",
       "      <td>471</td>\n",
       "    </tr>\n",
       "    <tr>\n",
       "      <th>956</th>\n",
       "      <td>7.4</td>\n",
       "      <td>454</td>\n",
       "      <td>6</td>\n",
       "      <td>4</td>\n",
       "      <td>104</td>\n",
       "      <td>951</td>\n",
       "    </tr>\n",
       "    <tr>\n",
       "      <th>957</th>\n",
       "      <td>7.4</td>\n",
       "      <td>502</td>\n",
       "      <td>8</td>\n",
       "      <td>4</td>\n",
       "      <td>98</td>\n",
       "      <td>163</td>\n",
       "    </tr>\n",
       "    <tr>\n",
       "      <th>958</th>\n",
       "      <td>7.4</td>\n",
       "      <td>499</td>\n",
       "      <td>7</td>\n",
       "      <td>6</td>\n",
       "      <td>109</td>\n",
       "      <td>132</td>\n",
       "    </tr>\n",
       "    <tr>\n",
       "      <th>959</th>\n",
       "      <td>7.4</td>\n",
       "      <td>194</td>\n",
       "      <td>8</td>\n",
       "      <td>4</td>\n",
       "      <td>96</td>\n",
       "      <td>954</td>\n",
       "    </tr>\n",
       "    <tr>\n",
       "      <th>960</th>\n",
       "      <td>7.4</td>\n",
       "      <td>893</td>\n",
       "      <td>7</td>\n",
       "      <td>4</td>\n",
       "      <td>103</td>\n",
       "      <td>849</td>\n",
       "    </tr>\n",
       "    <tr>\n",
       "      <th>961</th>\n",
       "      <td>7.4</td>\n",
       "      <td>143</td>\n",
       "      <td>8</td>\n",
       "      <td>3</td>\n",
       "      <td>114</td>\n",
       "      <td>732</td>\n",
       "    </tr>\n",
       "    <tr>\n",
       "      <th>962</th>\n",
       "      <td>7.4</td>\n",
       "      <td>225</td>\n",
       "      <td>6</td>\n",
       "      <td>4</td>\n",
       "      <td>99</td>\n",
       "      <td>680</td>\n",
       "    </tr>\n",
       "    <tr>\n",
       "      <th>963</th>\n",
       "      <td>7.4</td>\n",
       "      <td>403</td>\n",
       "      <td>8</td>\n",
       "      <td>0</td>\n",
       "      <td>118</td>\n",
       "      <td>42</td>\n",
       "    </tr>\n",
       "    <tr>\n",
       "      <th>964</th>\n",
       "      <td>7.4</td>\n",
       "      <td>430</td>\n",
       "      <td>7</td>\n",
       "      <td>3</td>\n",
       "      <td>150</td>\n",
       "      <td>219</td>\n",
       "    </tr>\n",
       "    <tr>\n",
       "      <th>965</th>\n",
       "      <td>7.4</td>\n",
       "      <td>429</td>\n",
       "      <td>7</td>\n",
       "      <td>12</td>\n",
       "      <td>105</td>\n",
       "      <td>105</td>\n",
       "    </tr>\n",
       "    <tr>\n",
       "      <th>966</th>\n",
       "      <td>7.4</td>\n",
       "      <td>869</td>\n",
       "      <td>7</td>\n",
       "      <td>2</td>\n",
       "      <td>87</td>\n",
       "      <td>209</td>\n",
       "    </tr>\n",
       "    <tr>\n",
       "      <th>967</th>\n",
       "      <td>7.4</td>\n",
       "      <td>858</td>\n",
       "      <td>8</td>\n",
       "      <td>0</td>\n",
       "      <td>136</td>\n",
       "      <td>816</td>\n",
       "    </tr>\n",
       "    <tr>\n",
       "      <th>968</th>\n",
       "      <td>7.4</td>\n",
       "      <td>741</td>\n",
       "      <td>8</td>\n",
       "      <td>6</td>\n",
       "      <td>162</td>\n",
       "      <td>738</td>\n",
       "    </tr>\n",
       "    <tr>\n",
       "      <th>969</th>\n",
       "      <td>7.4</td>\n",
       "      <td>413</td>\n",
       "      <td>8</td>\n",
       "      <td>5</td>\n",
       "      <td>109</td>\n",
       "      <td>347</td>\n",
       "    </tr>\n",
       "    <tr>\n",
       "      <th>970</th>\n",
       "      <td>7.4</td>\n",
       "      <td>958</td>\n",
       "      <td>8</td>\n",
       "      <td>6</td>\n",
       "      <td>107</td>\n",
       "      <td>662</td>\n",
       "    </tr>\n",
       "    <tr>\n",
       "      <th>971</th>\n",
       "      <td>7.4</td>\n",
       "      <td>193</td>\n",
       "      <td>8</td>\n",
       "      <td>4</td>\n",
       "      <td>90</td>\n",
       "      <td>634</td>\n",
       "    </tr>\n",
       "    <tr>\n",
       "      <th>972</th>\n",
       "      <td>7.4</td>\n",
       "      <td>119</td>\n",
       "      <td>3</td>\n",
       "      <td>6</td>\n",
       "      <td>112</td>\n",
       "      <td>798</td>\n",
       "    </tr>\n",
       "    <tr>\n",
       "      <th>973</th>\n",
       "      <td>7.4</td>\n",
       "      <td>717</td>\n",
       "      <td>7</td>\n",
       "      <td>6</td>\n",
       "      <td>126</td>\n",
       "      <td>880</td>\n",
       "    </tr>\n",
       "    <tr>\n",
       "      <th>974</th>\n",
       "      <td>7.4</td>\n",
       "      <td>914</td>\n",
       "      <td>6</td>\n",
       "      <td>4</td>\n",
       "      <td>116</td>\n",
       "      <td>257</td>\n",
       "    </tr>\n",
       "    <tr>\n",
       "      <th>975</th>\n",
       "      <td>7.4</td>\n",
       "      <td>81</td>\n",
       "      <td>6</td>\n",
       "      <td>1</td>\n",
       "      <td>118</td>\n",
       "      <td>664</td>\n",
       "    </tr>\n",
       "    <tr>\n",
       "      <th>976</th>\n",
       "      <td>7.4</td>\n",
       "      <td>459</td>\n",
       "      <td>7</td>\n",
       "      <td>0</td>\n",
       "      <td>138</td>\n",
       "      <td>794</td>\n",
       "    </tr>\n",
       "    <tr>\n",
       "      <th>977</th>\n",
       "      <td>7.4</td>\n",
       "      <td>550</td>\n",
       "      <td>6</td>\n",
       "      <td>11</td>\n",
       "      <td>114</td>\n",
       "      <td>480</td>\n",
       "    </tr>\n",
       "    <tr>\n",
       "      <th>978</th>\n",
       "      <td>7.4</td>\n",
       "      <td>939</td>\n",
       "      <td>8</td>\n",
       "      <td>5</td>\n",
       "      <td>126</td>\n",
       "      <td>157</td>\n",
       "    </tr>\n",
       "  </tbody>\n",
       "</table>\n",
       "<p>979 rows × 6 columns</p>\n",
       "</div>"
      ],
      "text/plain": [
       "     star_rating  title  content_rating  genre  duration  actors_list\n",
       "0            9.3    866               8      5       142          875\n",
       "1            9.2    756               8      5       175          621\n",
       "2            9.1    757               8      5       200           23\n",
       "3            9.0    730               7      0       152          173\n",
       "4            8.9    560               8      5       154          499\n",
       "5            8.9      1               4      6        96          377\n",
       "6            8.9    760               4     15       161          191\n",
       "7            8.9    812               7      1       201          280\n",
       "8            8.9    602               8      3       195          596\n",
       "9            8.9    260               8      6       139          101\n",
       "10           8.8    811               7      1       178          278\n",
       "11           8.8    359               7      0       148          587\n",
       "12           8.8    656               6      0       124          617\n",
       "13           8.8    268               7      6       142          896\n",
       "14           8.8    813               7      1       179          279\n",
       "15           8.7    366               7      1       169          635\n",
       "16           8.7    526               8      6       133          410\n",
       "17           8.7    612              10      6       207          914\n",
       "18           8.7    303               8      3       146          766\n",
       "19           8.7    654               6      0       121          617\n",
       "20           8.7    823               8      0       136          544\n",
       "21           8.7    166               8      5       130           32\n",
       "22           8.7    374               0      6       130          430\n",
       "23           8.7    889               8      5       106          562\n",
       "24           8.7    604               8      6       127          678\n",
       "25           8.6    424               7      4       116          781\n",
       "26           8.6    525               7     15       175          375\n",
       "27           8.6    868               8      6       118          484\n",
       "28           8.6    419               8      5       110          454\n",
       "29           8.6    165               5      4        87          155\n",
       "..           ...    ...             ...    ...       ...          ...\n",
       "949          7.4    335               6      4       103          600\n",
       "950          7.4    123               8      5       108          466\n",
       "951          7.4    630               8      6       105          507\n",
       "952          7.4    544               8      4       117          731\n",
       "953          7.4    831               6      1       102          698\n",
       "954          7.4    960               7      0       104          709\n",
       "955          7.4    970               8      6       157          471\n",
       "956          7.4    454               6      4       104          951\n",
       "957          7.4    502               8      4        98          163\n",
       "958          7.4    499               7      6       109          132\n",
       "959          7.4    194               8      4        96          954\n",
       "960          7.4    893               7      4       103          849\n",
       "961          7.4    143               8      3       114          732\n",
       "962          7.4    225               6      4        99          680\n",
       "963          7.4    403               8      0       118           42\n",
       "964          7.4    430               7      3       150          219\n",
       "965          7.4    429               7     12       105          105\n",
       "966          7.4    869               7      2        87          209\n",
       "967          7.4    858               8      0       136          816\n",
       "968          7.4    741               8      6       162          738\n",
       "969          7.4    413               8      5       109          347\n",
       "970          7.4    958               8      6       107          662\n",
       "971          7.4    193               8      4        90          634\n",
       "972          7.4    119               3      6       112          798\n",
       "973          7.4    717               7      6       126          880\n",
       "974          7.4    914               6      4       116          257\n",
       "975          7.4     81               6      1       118          664\n",
       "976          7.4    459               7      0       138          794\n",
       "977          7.4    550               6     11       114          480\n",
       "978          7.4    939               8      5       126          157\n",
       "\n",
       "[979 rows x 6 columns]"
      ]
     },
     "execution_count": 311,
     "metadata": {},
     "output_type": "execute_result"
    }
   ],
   "source": [
    "dummyEncode(imdb_df)"
   ]
  },
  {
   "cell_type": "code",
   "execution_count": 312,
   "metadata": {},
   "outputs": [
    {
     "data": {
      "text/html": [
       "<div>\n",
       "<style scoped>\n",
       "    .dataframe tbody tr th:only-of-type {\n",
       "        vertical-align: middle;\n",
       "    }\n",
       "\n",
       "    .dataframe tbody tr th {\n",
       "        vertical-align: top;\n",
       "    }\n",
       "\n",
       "    .dataframe thead th {\n",
       "        text-align: right;\n",
       "    }\n",
       "</style>\n",
       "<table border=\"1\" class=\"dataframe\">\n",
       "  <thead>\n",
       "    <tr style=\"text-align: right;\">\n",
       "      <th></th>\n",
       "      <th>star_rating</th>\n",
       "      <th>title</th>\n",
       "      <th>content_rating</th>\n",
       "      <th>genre</th>\n",
       "      <th>duration</th>\n",
       "      <th>actors_list</th>\n",
       "    </tr>\n",
       "  </thead>\n",
       "  <tbody>\n",
       "    <tr>\n",
       "      <th>count</th>\n",
       "      <td>979.000000</td>\n",
       "      <td>979.000000</td>\n",
       "      <td>979.000000</td>\n",
       "      <td>979.000000</td>\n",
       "      <td>979.000000</td>\n",
       "      <td>979.000000</td>\n",
       "    </tr>\n",
       "    <tr>\n",
       "      <th>mean</th>\n",
       "      <td>7.889785</td>\n",
       "      <td>487.383044</td>\n",
       "      <td>6.680286</td>\n",
       "      <td>4.271706</td>\n",
       "      <td>120.979571</td>\n",
       "      <td>483.440245</td>\n",
       "    </tr>\n",
       "    <tr>\n",
       "      <th>std</th>\n",
       "      <td>0.336069</td>\n",
       "      <td>281.639789</td>\n",
       "      <td>2.300291</td>\n",
       "      <td>3.020673</td>\n",
       "      <td>26.218010</td>\n",
       "      <td>279.525557</td>\n",
       "    </tr>\n",
       "    <tr>\n",
       "      <th>min</th>\n",
       "      <td>7.400000</td>\n",
       "      <td>0.000000</td>\n",
       "      <td>0.000000</td>\n",
       "      <td>0.000000</td>\n",
       "      <td>64.000000</td>\n",
       "      <td>0.000000</td>\n",
       "    </tr>\n",
       "    <tr>\n",
       "      <th>25%</th>\n",
       "      <td>7.600000</td>\n",
       "      <td>243.500000</td>\n",
       "      <td>6.000000</td>\n",
       "      <td>2.000000</td>\n",
       "      <td>102.000000</td>\n",
       "      <td>239.500000</td>\n",
       "    </tr>\n",
       "    <tr>\n",
       "      <th>50%</th>\n",
       "      <td>7.800000</td>\n",
       "      <td>487.000000</td>\n",
       "      <td>8.000000</td>\n",
       "      <td>4.000000</td>\n",
       "      <td>117.000000</td>\n",
       "      <td>483.000000</td>\n",
       "    </tr>\n",
       "    <tr>\n",
       "      <th>75%</th>\n",
       "      <td>8.100000</td>\n",
       "      <td>731.500000</td>\n",
       "      <td>8.000000</td>\n",
       "      <td>6.000000</td>\n",
       "      <td>134.000000</td>\n",
       "      <td>724.500000</td>\n",
       "    </tr>\n",
       "    <tr>\n",
       "      <th>max</th>\n",
       "      <td>9.300000</td>\n",
       "      <td>974.000000</td>\n",
       "      <td>11.000000</td>\n",
       "      <td>15.000000</td>\n",
       "      <td>242.000000</td>\n",
       "      <td>968.000000</td>\n",
       "    </tr>\n",
       "  </tbody>\n",
       "</table>\n",
       "</div>"
      ],
      "text/plain": [
       "       star_rating       title  content_rating       genre    duration  \\\n",
       "count   979.000000  979.000000      979.000000  979.000000  979.000000   \n",
       "mean      7.889785  487.383044        6.680286    4.271706  120.979571   \n",
       "std       0.336069  281.639789        2.300291    3.020673   26.218010   \n",
       "min       7.400000    0.000000        0.000000    0.000000   64.000000   \n",
       "25%       7.600000  243.500000        6.000000    2.000000  102.000000   \n",
       "50%       7.800000  487.000000        8.000000    4.000000  117.000000   \n",
       "75%       8.100000  731.500000        8.000000    6.000000  134.000000   \n",
       "max       9.300000  974.000000       11.000000   15.000000  242.000000   \n",
       "\n",
       "       actors_list  \n",
       "count   979.000000  \n",
       "mean    483.440245  \n",
       "std     279.525557  \n",
       "min       0.000000  \n",
       "25%     239.500000  \n",
       "50%     483.000000  \n",
       "75%     724.500000  \n",
       "max     968.000000  "
      ]
     },
     "execution_count": 312,
     "metadata": {},
     "output_type": "execute_result"
    }
   ],
   "source": [
    "imdb_df.describe()"
   ]
  },
  {
   "cell_type": "code",
   "execution_count": 313,
   "metadata": {},
   "outputs": [
    {
     "data": {
      "image/png": "[encoded data removed]",
      "text/plain": [
       "<matplotlib.figure.Figure at 0x13ab9ac8>"
      ]
     },
     "metadata": {},
     "output_type": "display_data"
    },
    {
     "data": {
      "image/png": "[encoded data removed]",
      "text/plain": [
       "<matplotlib.figure.Figure at 0xefa6b00>"
      ]
     },
     "metadata": {},
     "output_type": "display_data"
    },
    {
     "data": {
      "image/png": "[encoded data removed]",
      "text/plain": [
       "<matplotlib.figure.Figure at 0x143d8cc0>"
      ]
     },
     "metadata": {},
     "output_type": "display_data"
    }
   ],
   "source": [
    "num_cols = imdb_df.columns\n",
    "for i in range(0,len(num_cols),2):\n",
    "    if len(num_cols) > i+1:\n",
    "        plt.figure(figsize=(10,4))\n",
    "        plt.subplot(121)\n",
    "        sns.distplot(imdb_df[num_cols[i]], kde=True)\n",
    "        plt.subplot(122)            \n",
    "        sns.distplot(imdb_df[num_cols[i+1]], kde=True)\n",
    "        plt.tight_layout()\n",
    "        plt.show()\n",
    "\n",
    "    else:\n",
    "        sns.distplot(imdb_df[num_cols[i]], kde=False)"
   ]
  },
  {
   "cell_type": "markdown",
   "metadata": {},
   "source": [
    "# Correlation"
   ]
  },
  {
   "cell_type": "code",
   "execution_count": 314,
   "metadata": {},
   "outputs": [
    {
     "data": {
      "image/png": "[encoded data removed]",
      "text/plain": [
       "<matplotlib.figure.Figure at 0x13ac3eb8>"
      ]
     },
     "metadata": {},
     "output_type": "display_data"
    }
   ],
   "source": [
    "plt.figure(figsize=(10,5))\n",
    "sns.heatmap(imdb_df.corr())\n",
    "plt.show()\n"
   ]
  },
  {
   "cell_type": "code",
   "execution_count": 315,
   "metadata": {},
   "outputs": [
    {
     "data": {
      "text/plain": [
       "0      9.3\n",
       "1      9.2\n",
       "2      9.1\n",
       "3      9.0\n",
       "4      8.9\n",
       "5      8.9\n",
       "6      8.9\n",
       "7      8.9\n",
       "8      8.9\n",
       "9      8.9\n",
       "10     8.8\n",
       "11     8.8\n",
       "12     8.8\n",
       "13     8.8\n",
       "14     8.8\n",
       "15     8.7\n",
       "16     8.7\n",
       "17     8.7\n",
       "18     8.7\n",
       "19     8.7\n",
       "20     8.7\n",
       "21     8.7\n",
       "22     8.7\n",
       "23     8.7\n",
       "24     8.7\n",
       "25     8.6\n",
       "26     8.6\n",
       "27     8.6\n",
       "28     8.6\n",
       "29     8.6\n",
       "      ... \n",
       "949    7.4\n",
       "950    7.4\n",
       "951    7.4\n",
       "952    7.4\n",
       "953    7.4\n",
       "954    7.4\n",
       "955    7.4\n",
       "956    7.4\n",
       "957    7.4\n",
       "958    7.4\n",
       "959    7.4\n",
       "960    7.4\n",
       "961    7.4\n",
       "962    7.4\n",
       "963    7.4\n",
       "964    7.4\n",
       "965    7.4\n",
       "966    7.4\n",
       "967    7.4\n",
       "968    7.4\n",
       "969    7.4\n",
       "970    7.4\n",
       "971    7.4\n",
       "972    7.4\n",
       "973    7.4\n",
       "974    7.4\n",
       "975    7.4\n",
       "976    7.4\n",
       "977    7.4\n",
       "978    7.4\n",
       "Name: star_rating, Length: 979, dtype: float64"
      ]
     },
     "execution_count": 315,
     "metadata": {},
     "output_type": "execute_result"
    }
   ],
   "source": [
    "imdb_df.star_rating"
   ]
  },
  {
   "cell_type": "markdown",
   "metadata": {},
   "source": [
    "# Continuous to categorical  "
   ]
  },
  {
   "cell_type": "code",
   "execution_count": 316,
   "metadata": {},
   "outputs": [],
   "source": [
    "bin = [0,6,8,10]\n",
    "imdb_df.star_rating = pd.cut(imdb_df.star_rating,bin)\n"
   ]
  },
  {
   "cell_type": "code",
   "execution_count": 317,
   "metadata": {},
   "outputs": [
    {
     "data": {
      "text/plain": [
       "0      (8, 10]\n",
       "1      (8, 10]\n",
       "2      (8, 10]\n",
       "3      (8, 10]\n",
       "4      (8, 10]\n",
       "5      (8, 10]\n",
       "6      (8, 10]\n",
       "7      (8, 10]\n",
       "8      (8, 10]\n",
       "9      (8, 10]\n",
       "10     (8, 10]\n",
       "11     (8, 10]\n",
       "12     (8, 10]\n",
       "13     (8, 10]\n",
       "14     (8, 10]\n",
       "15     (8, 10]\n",
       "16     (8, 10]\n",
       "17     (8, 10]\n",
       "18     (8, 10]\n",
       "19     (8, 10]\n",
       "20     (8, 10]\n",
       "21     (8, 10]\n",
       "22     (8, 10]\n",
       "23     (8, 10]\n",
       "24     (8, 10]\n",
       "25     (8, 10]\n",
       "26     (8, 10]\n",
       "27     (8, 10]\n",
       "28     (8, 10]\n",
       "29     (8, 10]\n",
       "        ...   \n",
       "949     (6, 8]\n",
       "950     (6, 8]\n",
       "951     (6, 8]\n",
       "952     (6, 8]\n",
       "953     (6, 8]\n",
       "954     (6, 8]\n",
       "955     (6, 8]\n",
       "956     (6, 8]\n",
       "957     (6, 8]\n",
       "958     (6, 8]\n",
       "959     (6, 8]\n",
       "960     (6, 8]\n",
       "961     (6, 8]\n",
       "962     (6, 8]\n",
       "963     (6, 8]\n",
       "964     (6, 8]\n",
       "965     (6, 8]\n",
       "966     (6, 8]\n",
       "967     (6, 8]\n",
       "968     (6, 8]\n",
       "969     (6, 8]\n",
       "970     (6, 8]\n",
       "971     (6, 8]\n",
       "972     (6, 8]\n",
       "973     (6, 8]\n",
       "974     (6, 8]\n",
       "975     (6, 8]\n",
       "976     (6, 8]\n",
       "977     (6, 8]\n",
       "978     (6, 8]\n",
       "Name: star_rating, Length: 979, dtype: category\n",
       "Categories (3, interval[int64]): [(0, 6] < (6, 8] < (8, 10]]"
      ]
     },
     "execution_count": 317,
     "metadata": {},
     "output_type": "execute_result"
    }
   ],
   "source": [
    "imdb_df.star_rating"
   ]
  },
  {
   "cell_type": "code",
   "execution_count": 318,
   "metadata": {},
   "outputs": [
    {
     "data": {
      "text/plain": [
       "0"
      ]
     },
     "execution_count": 318,
     "metadata": {},
     "output_type": "execute_result"
    }
   ],
   "source": [
    "imdb_df.star_rating.isnull().sum()"
   ]
  },
  {
   "cell_type": "code",
   "execution_count": 319,
   "metadata": {
    "scrolled": true
   },
   "outputs": [
    {
     "data": {
      "text/plain": [
       "<matplotlib.axes._subplots.AxesSubplot at 0x13ac3c18>"
      ]
     },
     "execution_count": 319,
     "metadata": {},
     "output_type": "execute_result"
    },
    {
     "data": {
      "image/png": "[encoded data removed]",
      "text/plain": [
       "<matplotlib.figure.Figure at 0x1146bf98>"
      ]
     },
     "metadata": {},
     "output_type": "display_data"
    }
   ],
   "source": [
    "sns.countplot(imdb_df.star_rating)"
   ]
  },
  {
   "cell_type": "markdown",
   "metadata": {},
   "source": [
    "# RandomForest Classifier"
   ]
  },
  {
   "cell_type": "code",
   "execution_count": 320,
   "metadata": {},
   "outputs": [],
   "source": [
    "##extract labels from feature matrix \n",
    "y= np.asarray(imdb_df['star_rating'], dtype=\"|S6\")\n",
    "X=imdb_df.drop(['star_rating'],axis=1)\n",
    "\n",
    "#split dataset into train and test\n",
    "X_train,X_test,y_train,y_test= train_test_split(X,y,test_size=0.33,random_state=42)\n",
    "\n",
    "#OverSampling\n",
    "ros = RandomOverSampler(random_state=9)\n",
    "X_oversample, y_oversample =  ros.fit_sample(X_train, y_train)"
   ]
  },
  {
   "cell_type": "code",
   "execution_count": 321,
   "metadata": {
    "scrolled": true
   },
   "outputs": [
    {
     "data": {
      "text/plain": [
       "<matplotlib.axes._subplots.AxesSubplot at 0x14734470>"
      ]
     },
     "execution_count": 321,
     "metadata": {},
     "output_type": "execute_result"
    },
    {
     "data": {
      "image/png": "[encoded data removed]",
      "text/plain": [
       "<matplotlib.figure.Figure at 0x12d49cc0>"
      ]
     },
     "metadata": {},
     "output_type": "display_data"
    }
   ],
   "source": [
    "sns.countplot(y_oversample)"
   ]
  },
  {
   "cell_type": "code",
   "execution_count": 322,
   "metadata": {},
   "outputs": [
    {
     "data": {
      "text/plain": [
       "array(['(8, 10', '(6, 8]', '(6, 8]', '(6, 8]', '(8, 10', '(6, 8]',\n",
       "       '(8, 10', '(8, 10', '(6, 8]', '(8, 10', '(8, 10', '(8, 10',\n",
       "       '(6, 8]', '(6, 8]', '(6, 8]', '(8, 10', '(6, 8]', '(8, 10',\n",
       "       '(6, 8]', '(8, 10', '(8, 10', '(6, 8]', '(8, 10', '(6, 8]',\n",
       "       '(6, 8]', '(8, 10', '(6, 8]', '(8, 10', '(8, 10', '(8, 10',\n",
       "       '(6, 8]', '(6, 8]', '(8, 10', '(6, 8]', '(6, 8]', '(8, 10',\n",
       "       '(8, 10', '(6, 8]', '(8, 10', '(8, 10', '(6, 8]', '(6, 8]',\n",
       "       '(8, 10', '(6, 8]', '(6, 8]', '(8, 10', '(8, 10', '(6, 8]',\n",
       "       '(8, 10', '(6, 8]', '(8, 10', '(6, 8]', '(6, 8]', '(6, 8]',\n",
       "       '(6, 8]', '(8, 10', '(6, 8]', '(6, 8]', '(6, 8]', '(6, 8]',\n",
       "       '(6, 8]', '(6, 8]', '(8, 10', '(6, 8]', '(6, 8]', '(6, 8]',\n",
       "       '(6, 8]', '(8, 10', '(6, 8]', '(6, 8]', '(6, 8]', '(6, 8]',\n",
       "       '(8, 10', '(6, 8]', '(6, 8]', '(6, 8]', '(6, 8]', '(6, 8]',\n",
       "       '(8, 10', '(8, 10', '(6, 8]', '(8, 10', '(8, 10', '(6, 8]',\n",
       "       '(6, 8]', '(6, 8]', '(8, 10', '(8, 10', '(8, 10', '(6, 8]',\n",
       "       '(6, 8]', '(6, 8]', '(8, 10', '(6, 8]', '(6, 8]', '(6, 8]',\n",
       "       '(6, 8]', '(6, 8]', '(6, 8]', '(8, 10', '(6, 8]', '(6, 8]',\n",
       "       '(6, 8]', '(6, 8]', '(6, 8]', '(8, 10', '(8, 10', '(6, 8]',\n",
       "       '(6, 8]', '(6, 8]', '(6, 8]', '(6, 8]', '(8, 10', '(8, 10',\n",
       "       '(6, 8]', '(6, 8]', '(6, 8]', '(8, 10', '(8, 10', '(6, 8]',\n",
       "       '(6, 8]', '(6, 8]', '(8, 10', '(6, 8]', '(8, 10', '(6, 8]',\n",
       "       '(6, 8]', '(6, 8]', '(6, 8]', '(6, 8]', '(6, 8]', '(6, 8]',\n",
       "       '(8, 10', '(8, 10', '(6, 8]', '(6, 8]', '(8, 10', '(8, 10',\n",
       "       '(6, 8]', '(8, 10', '(6, 8]', '(6, 8]', '(6, 8]', '(6, 8]',\n",
       "       '(8, 10', '(6, 8]', '(8, 10', '(6, 8]', '(6, 8]', '(6, 8]',\n",
       "       '(6, 8]', '(6, 8]', '(8, 10', '(6, 8]', '(6, 8]', '(6, 8]',\n",
       "       '(6, 8]', '(6, 8]', '(6, 8]', '(6, 8]', '(8, 10', '(6, 8]',\n",
       "       '(6, 8]', '(6, 8]', '(8, 10', '(8, 10', '(6, 8]', '(8, 10',\n",
       "       '(6, 8]', '(6, 8]', '(6, 8]', '(6, 8]', '(6, 8]', '(8, 10',\n",
       "       '(8, 10', '(8, 10', '(6, 8]', '(6, 8]', '(6, 8]', '(8, 10',\n",
       "       '(8, 10', '(8, 10', '(6, 8]', '(8, 10', '(6, 8]', '(6, 8]',\n",
       "       '(6, 8]', '(6, 8]', '(6, 8]', '(6, 8]', '(6, 8]', '(6, 8]',\n",
       "       '(8, 10', '(6, 8]', '(8, 10', '(6, 8]', '(8, 10', '(6, 8]',\n",
       "       '(8, 10', '(6, 8]', '(6, 8]', '(8, 10', '(8, 10', '(6, 8]',\n",
       "       '(6, 8]', '(8, 10', '(8, 10', '(8, 10', '(6, 8]', '(8, 10',\n",
       "       '(6, 8]', '(6, 8]', '(6, 8]', '(6, 8]', '(8, 10', '(8, 10',\n",
       "       '(6, 8]', '(6, 8]', '(8, 10', '(6, 8]', '(6, 8]', '(6, 8]',\n",
       "       '(8, 10', '(8, 10', '(6, 8]', '(8, 10', '(6, 8]', '(6, 8]',\n",
       "       '(6, 8]', '(8, 10', '(6, 8]', '(6, 8]', '(6, 8]', '(6, 8]',\n",
       "       '(6, 8]', '(8, 10', '(8, 10', '(6, 8]', '(8, 10', '(6, 8]',\n",
       "       '(6, 8]', '(8, 10', '(6, 8]', '(6, 8]', '(6, 8]', '(6, 8]',\n",
       "       '(8, 10', '(6, 8]', '(6, 8]', '(6, 8]', '(6, 8]', '(6, 8]',\n",
       "       '(6, 8]', '(8, 10', '(8, 10', '(8, 10', '(6, 8]', '(6, 8]',\n",
       "       '(6, 8]', '(6, 8]', '(8, 10', '(8, 10', '(6, 8]', '(6, 8]',\n",
       "       '(6, 8]', '(8, 10', '(8, 10', '(6, 8]', '(8, 10', '(6, 8]',\n",
       "       '(6, 8]', '(8, 10', '(8, 10', '(6, 8]', '(8, 10', '(6, 8]',\n",
       "       '(6, 8]', '(6, 8]', '(6, 8]', '(6, 8]', '(6, 8]', '(6, 8]',\n",
       "       '(6, 8]', '(8, 10', '(6, 8]', '(8, 10', '(6, 8]', '(8, 10',\n",
       "       '(8, 10', '(6, 8]', '(8, 10', '(6, 8]', '(6, 8]', '(6, 8]',\n",
       "       '(6, 8]', '(6, 8]', '(8, 10', '(6, 8]', '(6, 8]', '(8, 10',\n",
       "       '(8, 10', '(6, 8]', '(6, 8]', '(6, 8]', '(6, 8]', '(8, 10',\n",
       "       '(8, 10', '(6, 8]', '(6, 8]', '(6, 8]', '(6, 8]', '(6, 8]',\n",
       "       '(6, 8]', '(8, 10', '(6, 8]', '(6, 8]', '(6, 8]', '(6, 8]',\n",
       "       '(6, 8]', '(6, 8]', '(6, 8]', '(8, 10', '(6, 8]', '(8, 10',\n",
       "       '(6, 8]', '(6, 8]', '(6, 8]', '(8, 10', '(8, 10', '(6, 8]',\n",
       "       '(8, 10', '(6, 8]', '(6, 8]', '(6, 8]', '(6, 8]', '(6, 8]',\n",
       "       '(8, 10', '(8, 10', '(8, 10', '(6, 8]', '(6, 8]', '(8, 10',\n",
       "       '(6, 8]', '(6, 8]', '(6, 8]', '(8, 10', '(6, 8]', '(8, 10',\n",
       "       '(6, 8]', '(6, 8]', '(8, 10', '(6, 8]', '(6, 8]', '(6, 8]',\n",
       "       '(6, 8]', '(6, 8]', '(6, 8]', '(8, 10', '(6, 8]', '(6, 8]',\n",
       "       '(6, 8]', '(8, 10', '(6, 8]', '(6, 8]', '(6, 8]', '(6, 8]',\n",
       "       '(6, 8]', '(6, 8]', '(8, 10', '(8, 10', '(6, 8]', '(6, 8]',\n",
       "       '(6, 8]', '(6, 8]', '(6, 8]', '(6, 8]', '(6, 8]', '(8, 10',\n",
       "       '(8, 10', '(6, 8]', '(6, 8]', '(8, 10', '(6, 8]', '(8, 10',\n",
       "       '(6, 8]', '(8, 10', '(8, 10', '(6, 8]', '(8, 10', '(8, 10',\n",
       "       '(8, 10', '(6, 8]', '(8, 10', '(6, 8]', '(6, 8]', '(6, 8]',\n",
       "       '(6, 8]', '(6, 8]', '(8, 10', '(6, 8]', '(6, 8]', '(6, 8]',\n",
       "       '(6, 8]', '(6, 8]', '(8, 10', '(6, 8]', '(6, 8]', '(6, 8]',\n",
       "       '(6, 8]', '(6, 8]', '(6, 8]', '(6, 8]', '(6, 8]', '(6, 8]',\n",
       "       '(6, 8]', '(6, 8]', '(8, 10', '(6, 8]', '(6, 8]', '(6, 8]',\n",
       "       '(8, 10', '(6, 8]', '(8, 10', '(6, 8]', '(6, 8]', '(6, 8]',\n",
       "       '(6, 8]', '(6, 8]', '(6, 8]', '(8, 10', '(6, 8]', '(6, 8]',\n",
       "       '(6, 8]', '(6, 8]', '(6, 8]', '(6, 8]', '(6, 8]', '(6, 8]',\n",
       "       '(8, 10', '(6, 8]', '(6, 8]', '(6, 8]', '(8, 10', '(6, 8]',\n",
       "       '(6, 8]', '(8, 10', '(6, 8]', '(6, 8]', '(6, 8]', '(6, 8]',\n",
       "       '(6, 8]', '(6, 8]', '(6, 8]', '(6, 8]', '(6, 8]', '(6, 8]',\n",
       "       '(6, 8]', '(6, 8]', '(6, 8]', '(6, 8]', '(6, 8]', '(6, 8]',\n",
       "       '(8, 10', '(8, 10', '(6, 8]', '(8, 10', '(6, 8]', '(8, 10',\n",
       "       '(6, 8]', '(8, 10', '(6, 8]', '(6, 8]', '(6, 8]', '(6, 8]',\n",
       "       '(6, 8]', '(6, 8]', '(8, 10', '(6, 8]', '(8, 10', '(6, 8]',\n",
       "       '(6, 8]', '(6, 8]', '(6, 8]', '(6, 8]', '(6, 8]', '(8, 10',\n",
       "       '(6, 8]', '(6, 8]', '(6, 8]', '(6, 8]', '(6, 8]', '(8, 10',\n",
       "       '(8, 10', '(6, 8]', '(6, 8]', '(6, 8]', '(6, 8]', '(6, 8]',\n",
       "       '(6, 8]', '(6, 8]', '(6, 8]', '(8, 10', '(6, 8]', '(6, 8]',\n",
       "       '(6, 8]', '(6, 8]', '(6, 8]', '(8, 10', '(8, 10', '(6, 8]',\n",
       "       '(8, 10', '(8, 10', '(8, 10', '(6, 8]', '(8, 10', '(6, 8]',\n",
       "       '(6, 8]', '(6, 8]', '(8, 10', '(6, 8]', '(6, 8]', '(6, 8]',\n",
       "       '(6, 8]', '(6, 8]', '(8, 10', '(8, 10', '(6, 8]', '(6, 8]',\n",
       "       '(8, 10', '(6, 8]', '(6, 8]', '(6, 8]', '(6, 8]', '(8, 10',\n",
       "       '(6, 8]', '(8, 10', '(8, 10', '(8, 10', '(6, 8]', '(6, 8]',\n",
       "       '(8, 10', '(6, 8]', '(8, 10', '(6, 8]', '(8, 10', '(6, 8]',\n",
       "       '(6, 8]', '(6, 8]', '(6, 8]', '(8, 10', '(6, 8]', '(8, 10',\n",
       "       '(6, 8]', '(6, 8]', '(6, 8]', '(6, 8]', '(6, 8]', '(6, 8]',\n",
       "       '(8, 10', '(8, 10', '(8, 10', '(6, 8]', '(6, 8]', '(6, 8]',\n",
       "       '(6, 8]', '(6, 8]', '(6, 8]', '(6, 8]', '(8, 10', '(6, 8]',\n",
       "       '(6, 8]', '(8, 10', '(6, 8]', '(6, 8]', '(6, 8]', '(8, 10',\n",
       "       '(8, 10', '(8, 10', '(6, 8]', '(6, 8]', '(6, 8]', '(6, 8]',\n",
       "       '(6, 8]', '(8, 10', '(6, 8]', '(6, 8]', '(6, 8]', '(6, 8]',\n",
       "       '(6, 8]', '(8, 10', '(8, 10', '(6, 8]', '(6, 8]', '(6, 8]',\n",
       "       '(8, 10', '(8, 10', '(6, 8]', '(6, 8]', '(6, 8]', '(6, 8]',\n",
       "       '(6, 8]', '(6, 8]', '(6, 8]', '(6, 8]', '(8, 10', '(6, 8]',\n",
       "       '(6, 8]', '(6, 8]', '(6, 8]', '(8, 10', '(6, 8]', '(6, 8]',\n",
       "       '(6, 8]', '(6, 8]', '(6, 8]', '(8, 10', '(6, 8]', '(6, 8]',\n",
       "       '(6, 8]', '(6, 8]', '(8, 10', '(8, 10', '(6, 8]', '(6, 8]',\n",
       "       '(8, 10', '(8, 10', '(8, 10', '(6, 8]', '(6, 8]', '(6, 8]',\n",
       "       '(6, 8]', '(6, 8]', '(6, 8]', '(6, 8]', '(6, 8]', '(8, 10',\n",
       "       '(6, 8]', '(6, 8]', '(8, 10', '(6, 8]', '(8, 10', '(6, 8]',\n",
       "       '(6, 8]', '(8, 10', '(6, 8]', '(8, 10', '(6, 8]', '(8, 10',\n",
       "       '(6, 8]', '(8, 10', '(8, 10', '(8, 10', '(6, 8]', '(6, 8]',\n",
       "       '(8, 10', '(8, 10', '(8, 10', '(8, 10', '(8, 10', '(8, 10',\n",
       "       '(8, 10', '(8, 10', '(8, 10', '(8, 10', '(8, 10', '(8, 10',\n",
       "       '(8, 10', '(8, 10', '(8, 10', '(8, 10', '(8, 10', '(8, 10',\n",
       "       '(8, 10', '(8, 10', '(8, 10', '(8, 10', '(8, 10', '(8, 10',\n",
       "       '(8, 10', '(8, 10', '(8, 10', '(8, 10', '(8, 10', '(8, 10',\n",
       "       '(8, 10', '(8, 10', '(8, 10', '(8, 10', '(8, 10', '(8, 10',\n",
       "       '(8, 10', '(8, 10', '(8, 10', '(8, 10', '(8, 10', '(8, 10',\n",
       "       '(8, 10', '(8, 10', '(8, 10', '(8, 10', '(8, 10', '(8, 10',\n",
       "       '(8, 10', '(8, 10', '(8, 10', '(8, 10', '(8, 10', '(8, 10',\n",
       "       '(8, 10', '(8, 10', '(8, 10', '(8, 10', '(8, 10', '(8, 10',\n",
       "       '(8, 10', '(8, 10', '(8, 10', '(8, 10', '(8, 10', '(8, 10',\n",
       "       '(8, 10', '(8, 10', '(8, 10', '(8, 10', '(8, 10', '(8, 10',\n",
       "       '(8, 10', '(8, 10', '(8, 10', '(8, 10', '(8, 10', '(8, 10',\n",
       "       '(8, 10', '(8, 10', '(8, 10', '(8, 10', '(8, 10', '(8, 10',\n",
       "       '(8, 10', '(8, 10', '(8, 10', '(8, 10', '(8, 10', '(8, 10',\n",
       "       '(8, 10', '(8, 10', '(8, 10', '(8, 10', '(8, 10', '(8, 10',\n",
       "       '(8, 10', '(8, 10', '(8, 10', '(8, 10', '(8, 10', '(8, 10',\n",
       "       '(8, 10', '(8, 10', '(8, 10', '(8, 10', '(8, 10', '(8, 10',\n",
       "       '(8, 10', '(8, 10', '(8, 10', '(8, 10', '(8, 10', '(8, 10',\n",
       "       '(8, 10', '(8, 10', '(8, 10', '(8, 10', '(8, 10', '(8, 10',\n",
       "       '(8, 10', '(8, 10', '(8, 10', '(8, 10', '(8, 10', '(8, 10',\n",
       "       '(8, 10', '(8, 10', '(8, 10', '(8, 10', '(8, 10', '(8, 10',\n",
       "       '(8, 10', '(8, 10', '(8, 10', '(8, 10', '(8, 10', '(8, 10',\n",
       "       '(8, 10', '(8, 10', '(8, 10', '(8, 10', '(8, 10', '(8, 10',\n",
       "       '(8, 10', '(8, 10', '(8, 10', '(8, 10', '(8, 10', '(8, 10',\n",
       "       '(8, 10', '(8, 10', '(8, 10', '(8, 10', '(8, 10', '(8, 10',\n",
       "       '(8, 10', '(8, 10', '(8, 10', '(8, 10', '(8, 10', '(8, 10',\n",
       "       '(8, 10', '(8, 10', '(8, 10', '(8, 10', '(8, 10', '(8, 10',\n",
       "       '(8, 10', '(8, 10', '(8, 10', '(8, 10', '(8, 10', '(8, 10',\n",
       "       '(8, 10', '(8, 10', '(8, 10', '(8, 10', '(8, 10', '(8, 10',\n",
       "       '(8, 10', '(8, 10', '(8, 10', '(8, 10', '(8, 10', '(8, 10',\n",
       "       '(8, 10', '(8, 10', '(8, 10', '(8, 10', '(8, 10', '(8, 10',\n",
       "       '(8, 10', '(8, 10', '(8, 10', '(8, 10', '(8, 10', '(8, 10',\n",
       "       '(8, 10', '(8, 10', '(8, 10', '(8, 10', '(8, 10', '(8, 10',\n",
       "       '(8, 10', '(8, 10', '(8, 10', '(8, 10', '(8, 10', '(8, 10',\n",
       "       '(8, 10', '(8, 10', '(8, 10', '(8, 10', '(8, 10', '(8, 10',\n",
       "       '(8, 10', '(8, 10', '(8, 10', '(8, 10', '(8, 10', '(8, 10',\n",
       "       '(8, 10', '(8, 10', '(8, 10', '(8, 10', '(8, 10', '(8, 10',\n",
       "       '(8, 10', '(8, 10', '(8, 10', '(8, 10', '(8, 10', '(8, 10',\n",
       "       '(8, 10', '(8, 10', '(8, 10', '(8, 10', '(8, 10', '(8, 10',\n",
       "       '(8, 10', '(8, 10', '(8, 10', '(8, 10'], dtype='|S6')"
      ]
     },
     "execution_count": 322,
     "metadata": {},
     "output_type": "execute_result"
    }
   ],
   "source": [
    "y_oversample"
   ]
  },
  {
   "cell_type": "code",
   "execution_count": 330,
   "metadata": {},
   "outputs": [],
   "source": [
    "param_grid = {\n",
    "    'n_estimators': [2, 5,10,12,14,15],\n",
    "    'max_depth': [2,4,6,8,16],\n",
    "    'min_samples_leaf': [3, 4, 5],\n",
    "    'min_samples_split': [2, 3, 5, 10, 15,20,25,30,35,40,45],\n",
    "    'criterion' :['gini', 'entropy']\n",
    "    \n",
    "}"
   ]
  },
  {
   "cell_type": "code",
   "execution_count": 331,
   "metadata": {},
   "outputs": [],
   "source": [
    "classifier_RandomForest = RandomForestClassifier(random_state=9)"
   ]
  },
  {
   "cell_type": "code",
   "execution_count": 332,
   "metadata": {},
   "outputs": [
    {
     "data": {
      "text/plain": [
       "GridSearchCV(cv=5, error_score='raise',\n",
       "       estimator=RandomForestClassifier(bootstrap=True, class_weight=None, criterion='gini',\n",
       "            max_depth=None, max_features='auto', max_leaf_nodes=None,\n",
       "            min_impurity_decrease=0.0, min_impurity_split=None,\n",
       "            min_samples_leaf=1, min_samples_split=2,\n",
       "            min_weight_fraction_leaf=0.0, n_estimators=10, n_jobs=1,\n",
       "            oob_score=False, random_state=9, verbose=0, warm_start=False),\n",
       "       fit_params=None, iid=True, n_jobs=1,\n",
       "       param_grid={'n_estimators': [2, 5, 10, 12, 14, 15], 'min_samples_split': [2, 3, 5, 10, 15, 20, 25, 30, 35, 40, 45], 'criterion': ['gini', 'entropy'], 'max_depth': [2, 4, 6, 8, 16], 'min_samples_leaf': [3, 4, 5]},\n",
       "       pre_dispatch='2*n_jobs', refit=True, return_train_score='warn',\n",
       "       scoring=None, verbose=0)"
      ]
     },
     "execution_count": 332,
     "metadata": {},
     "output_type": "execute_result"
    }
   ],
   "source": [
    "CV_rfc = GridSearchCV(estimator=classifier_RandomForest, param_grid=param_grid, cv= 5)\n",
    "CV_rfc.fit(X_oversample, y_oversample)"
   ]
  },
  {
   "cell_type": "code",
   "execution_count": 333,
   "metadata": {},
   "outputs": [
    {
     "data": {
      "text/plain": [
       "{'criterion': 'entropy',\n",
       " 'max_depth': 16,\n",
       " 'min_samples_leaf': 3,\n",
       " 'min_samples_split': 2,\n",
       " 'n_estimators': 12}"
      ]
     },
     "execution_count": 333,
     "metadata": {},
     "output_type": "execute_result"
    }
   ],
   "source": [
    "CV_rfc.best_params_"
   ]
  },
  {
   "cell_type": "code",
   "execution_count": 340,
   "metadata": {},
   "outputs": [],
   "source": [
    "rfc1=RandomForestClassifier(random_state=9, n_estimators=12, criterion='entropy', max_depth=16, min_samples_leaf=3, min_samples_split=2)"
   ]
  },
  {
   "cell_type": "code",
   "execution_count": 341,
   "metadata": {},
   "outputs": [
    {
     "data": {
      "text/plain": [
       "RandomForestClassifier(bootstrap=True, class_weight=None, criterion='entropy',\n",
       "            max_depth=16, max_features='auto', max_leaf_nodes=None,\n",
       "            min_impurity_decrease=0.0, min_impurity_split=None,\n",
       "            min_samples_leaf=3, min_samples_split=2,\n",
       "            min_weight_fraction_leaf=0.0, n_estimators=12, n_jobs=1,\n",
       "            oob_score=False, random_state=9, verbose=0, warm_start=False)"
      ]
     },
     "execution_count": 341,
     "metadata": {},
     "output_type": "execute_result"
    }
   ],
   "source": [
    "rfc1.fit(X_oversample, y_oversample)"
   ]
  },
  {
   "cell_type": "code",
   "execution_count": 343,
   "metadata": {},
   "outputs": [
    {
     "name": "stdout",
     "output_type": "stream",
     "text": [
      "('Accuracy for Random Forest on CV data: ', 0.6574074074074074)\n"
     ]
    }
   ],
   "source": [
    "print(\"Accuracy for Random Forest on CV data: \",accuracy_score(y_test,rfc1.predict(X_test)))"
   ]
  },
  {
   "cell_type": "code",
   "execution_count": 347,
   "metadata": {},
   "outputs": [
    {
     "name": "stdout",
     "output_type": "stream",
     "text": [
      "[[175  58]\n",
      " [ 53  38]]\n"
     ]
    }
   ],
   "source": [
    "print(confusion_matrix(y_test, rfc1.predict(X_test)))"
   ]
  },
  {
   "cell_type": "code",
   "execution_count": 348,
   "metadata": {},
   "outputs": [
    {
     "ename": "ValueError",
     "evalue": "pos_label=1 is not a valid label: array(['(6, 8]', '(8, 10'], dtype='|S6')",
     "output_type": "error",
     "traceback": [
      "\u001b[1;31m---------------------------------------------------------------------------\u001b[0m",
      "\u001b[1;31mValueError\u001b[0m                                Traceback (most recent call last)",
      "\u001b[1;32m<ipython-input-348-a75e5dc0d818>\u001b[0m in \u001b[0;36m<module>\u001b[1;34m()\u001b[0m\n\u001b[1;32m----> 1\u001b[1;33m \u001b[1;32mprint\u001b[0m\u001b[1;33m(\u001b[0m\u001b[1;34m\"f1_score\"\u001b[0m\u001b[1;33m,\u001b[0m \u001b[0mf1_score\u001b[0m\u001b[1;33m(\u001b[0m\u001b[0my_test\u001b[0m\u001b[1;33m,\u001b[0m \u001b[0mrfc1\u001b[0m\u001b[1;33m.\u001b[0m\u001b[0mpredict\u001b[0m\u001b[1;33m(\u001b[0m\u001b[0mX_test\u001b[0m\u001b[1;33m)\u001b[0m\u001b[1;33m)\u001b[0m\u001b[1;33m)\u001b[0m\u001b[1;33m\u001b[0m\u001b[0m\n\u001b[0m\u001b[0;32m      2\u001b[0m \u001b[1;32mprint\u001b[0m\u001b[1;33m(\u001b[0m\u001b[0mprecision_score\u001b[0m\u001b[1;33m(\u001b[0m\u001b[0my_test\u001b[0m\u001b[1;33m,\u001b[0m \u001b[0mrfc1\u001b[0m\u001b[1;33m.\u001b[0m\u001b[0mpredict\u001b[0m\u001b[1;33m(\u001b[0m\u001b[0mX_test\u001b[0m\u001b[1;33m)\u001b[0m\u001b[1;33m)\u001b[0m\u001b[1;33m)\u001b[0m\u001b[1;33m\u001b[0m\u001b[0m\n\u001b[0;32m      3\u001b[0m \u001b[1;32mprint\u001b[0m\u001b[1;33m(\u001b[0m\u001b[0mrecall_score\u001b[0m\u001b[1;33m(\u001b[0m\u001b[0my_test\u001b[0m\u001b[1;33m,\u001b[0m \u001b[0mrfc1\u001b[0m\u001b[1;33m.\u001b[0m\u001b[0mpredict\u001b[0m\u001b[1;33m(\u001b[0m\u001b[0mX_test\u001b[0m\u001b[1;33m)\u001b[0m\u001b[1;33m)\u001b[0m\u001b[1;33m)\u001b[0m\u001b[1;33m\u001b[0m\u001b[0m\n\u001b[0;32m      4\u001b[0m \u001b[1;32mprint\u001b[0m\u001b[1;33m(\u001b[0m\u001b[0mroc_auc_score\u001b[0m\u001b[1;33m(\u001b[0m\u001b[0my_test\u001b[0m\u001b[1;33m,\u001b[0m \u001b[0mrfc1\u001b[0m\u001b[1;33m.\u001b[0m\u001b[0mpredict\u001b[0m\u001b[1;33m(\u001b[0m\u001b[0mX_test\u001b[0m\u001b[1;33m)\u001b[0m\u001b[1;33m)\u001b[0m\u001b[1;33m)\u001b[0m\u001b[1;33m\u001b[0m\u001b[0m\n",
      "\u001b[1;32mC:\\Users\\SAI\\Anaconda2\\lib\\site-packages\\sklearn\\metrics\\classification.pyc\u001b[0m in \u001b[0;36mf1_score\u001b[1;34m(y_true, y_pred, labels, pos_label, average, sample_weight)\u001b[0m\n\u001b[0;32m    712\u001b[0m     return fbeta_score(y_true, y_pred, 1, labels=labels,\n\u001b[0;32m    713\u001b[0m                        \u001b[0mpos_label\u001b[0m\u001b[1;33m=\u001b[0m\u001b[0mpos_label\u001b[0m\u001b[1;33m,\u001b[0m \u001b[0maverage\u001b[0m\u001b[1;33m=\u001b[0m\u001b[0maverage\u001b[0m\u001b[1;33m,\u001b[0m\u001b[1;33m\u001b[0m\u001b[0m\n\u001b[1;32m--> 714\u001b[1;33m                        sample_weight=sample_weight)\n\u001b[0m\u001b[0;32m    715\u001b[0m \u001b[1;33m\u001b[0m\u001b[0m\n\u001b[0;32m    716\u001b[0m \u001b[1;33m\u001b[0m\u001b[0m\n",
      "\u001b[1;32mC:\\Users\\SAI\\Anaconda2\\lib\\site-packages\\sklearn\\metrics\\classification.pyc\u001b[0m in \u001b[0;36mfbeta_score\u001b[1;34m(y_true, y_pred, beta, labels, pos_label, average, sample_weight)\u001b[0m\n\u001b[0;32m    826\u001b[0m                                                  \u001b[0maverage\u001b[0m\u001b[1;33m=\u001b[0m\u001b[0maverage\u001b[0m\u001b[1;33m,\u001b[0m\u001b[1;33m\u001b[0m\u001b[0m\n\u001b[0;32m    827\u001b[0m                                                  \u001b[0mwarn_for\u001b[0m\u001b[1;33m=\u001b[0m\u001b[1;33m(\u001b[0m\u001b[1;34m'f-score'\u001b[0m\u001b[1;33m,\u001b[0m\u001b[1;33m)\u001b[0m\u001b[1;33m,\u001b[0m\u001b[1;33m\u001b[0m\u001b[0m\n\u001b[1;32m--> 828\u001b[1;33m                                                  sample_weight=sample_weight)\n\u001b[0m\u001b[0;32m    829\u001b[0m     \u001b[1;32mreturn\u001b[0m \u001b[0mf\u001b[0m\u001b[1;33m\u001b[0m\u001b[0m\n\u001b[0;32m    830\u001b[0m \u001b[1;33m\u001b[0m\u001b[0m\n",
      "\u001b[1;32mC:\\Users\\SAI\\Anaconda2\\lib\\site-packages\\sklearn\\metrics\\classification.pyc\u001b[0m in \u001b[0;36mprecision_recall_fscore_support\u001b[1;34m(y_true, y_pred, beta, labels, pos_label, average, warn_for, sample_weight)\u001b[0m\n\u001b[0;32m   1034\u001b[0m                 \u001b[1;32melse\u001b[0m\u001b[1;33m:\u001b[0m\u001b[1;33m\u001b[0m\u001b[0m\n\u001b[0;32m   1035\u001b[0m                     raise ValueError(\"pos_label=%r is not a valid label: %r\" %\n\u001b[1;32m-> 1036\u001b[1;33m                                      (pos_label, present_labels))\n\u001b[0m\u001b[0;32m   1037\u001b[0m             \u001b[0mlabels\u001b[0m \u001b[1;33m=\u001b[0m \u001b[1;33m[\u001b[0m\u001b[0mpos_label\u001b[0m\u001b[1;33m]\u001b[0m\u001b[1;33m\u001b[0m\u001b[0m\n\u001b[0;32m   1038\u001b[0m         \u001b[1;32melse\u001b[0m\u001b[1;33m:\u001b[0m\u001b[1;33m\u001b[0m\u001b[0m\n",
      "\u001b[1;31mValueError\u001b[0m: pos_label=1 is not a valid label: array(['(6, 8]', '(8, 10'], dtype='|S6')"
     ]
    }
   ],
   "source": [
    "print(\"f1_score\", f1_score(y_test, rfc1.predict(X_test)))\n",
    "print(precision_score(y_test, rfc1.predict(X_test)))\n",
    "print(recall_score(y_test, rfc1.predict(X_test)))\n",
    "print(roc_auc_score(y_test, rfc1.predict(X_test)))\n"
   ]
  },
  {
   "cell_type": "code",
   "execution_count": null,
   "metadata": {},
   "outputs": [],
   "source": []
  }
 ],
 "metadata": {
  "kernelspec": {
   "display_name": "Python 2",
   "language": "python",
   "name": "python2"
  },
  "language_info": {
   "codemirror_mode": {
    "name": "ipython",
    "version": 2
   },
   "file_extension": ".py",
   "mimetype": "text/x-python",
   "name": "python",
   "nbconvert_exporter": "python",
   "pygments_lexer": "ipython2",
   "version": "2.7.14"
  }
 },
 "nbformat": 4,
 "nbformat_minor": 2
}
